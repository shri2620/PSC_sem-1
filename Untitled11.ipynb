{
 "cells": [
  {
   "cell_type": "code",
   "execution_count": 1,
   "id": "93236e90-e510-4cc2-8691-0ff7a689f75b",
   "metadata": {},
   "outputs": [],
   "source": [
    "#q7s = \"this is my first python program class and i am learning python string and its function\""
   ]
  },
  {
   "cell_type": "code",
   "execution_count": 2,
   "id": "65e6e243-ab4c-4859-a802-bcf9cea72685",
   "metadata": {},
   "outputs": [],
   "source": [
    "#q1"
   ]
  },
  {
   "cell_type": "code",
   "execution_count": 3,
   "id": "c0372a94-764b-45da-8a1a-c811f27f4fba",
   "metadata": {},
   "outputs": [
    {
     "data": {
      "text/plain": [
       "'h   r tnrr a d  ai tntna sutn'"
      ]
     },
     "execution_count": 3,
     "metadata": {},
     "output_type": "execute_result"
    }
   ],
   "source": [
    "s [1:300:3]"
   ]
  },
  {
   "cell_type": "code",
   "execution_count": 7,
   "id": "3b1fd74d-5919-42f8-ab7e-970db06c23c1",
   "metadata": {},
   "outputs": [],
   "source": [
    "#q2"
   ]
  },
  {
   "cell_type": "code",
   "execution_count": 8,
   "id": "24ab5961-6843-4934-8464-a1608d67d58a",
   "metadata": {},
   "outputs": [
    {
     "data": {
      "text/plain": [
       "'noitcnuf sti dna gnirts nohtyp gninrael ma i dna ssalc margorp nohtyp tsrif ym si siht'"
      ]
     },
     "execution_count": 8,
     "metadata": {},
     "output_type": "execute_result"
    }
   ],
   "source": [
    "s[::-1]"
   ]
  },
  {
   "cell_type": "code",
   "execution_count": 10,
   "id": "fd3267af-c96f-4654-9d6b-cbc4051e672e",
   "metadata": {},
   "outputs": [],
   "source": [
    "#q3"
   ]
  },
  {
   "cell_type": "code",
   "execution_count": 11,
   "id": "2bdcd7f0-423f-4d68-ac86-46c1bca30cf7",
   "metadata": {},
   "outputs": [
    {
     "data": {
      "text/plain": [
       "'THIS IS MY FIRST PYTHON PROGRAM CLASS AND I AM LEARNING PYTHON STRING AND ITS FUNCTION'"
      ]
     },
     "execution_count": 11,
     "metadata": {},
     "output_type": "execute_result"
    }
   ],
   "source": [
    "s.upper()"
   ]
  },
  {
   "cell_type": "code",
   "execution_count": 15,
   "id": "089f0ae0-2ea7-43b2-8bbf-0cd06a667ca6",
   "metadata": {},
   "outputs": [],
   "source": [
    "s1=s.upper()"
   ]
  },
  {
   "cell_type": "code",
   "execution_count": 17,
   "id": "78406758-b94c-4967-9a2d-0a080a55cef5",
   "metadata": {},
   "outputs": [
    {
     "data": {
      "text/plain": [
       "['THIS',\n",
       " 'IS',\n",
       " 'MY',\n",
       " 'FIRST',\n",
       " 'PYTHON',\n",
       " 'PROGRAM',\n",
       " 'CLASS',\n",
       " 'AND',\n",
       " 'I',\n",
       " 'AM',\n",
       " 'LEARNING',\n",
       " 'PYTHON',\n",
       " 'STRING',\n",
       " 'AND',\n",
       " 'ITS',\n",
       " 'FUNCTION']"
      ]
     },
     "execution_count": 17,
     "metadata": {},
     "output_type": "execute_result"
    }
   ],
   "source": [
    "s1.split()"
   ]
  },
  {
   "cell_type": "code",
   "execution_count": 18,
   "id": "e0068c9e-9230-4207-b977-8f08cf993c8e",
   "metadata": {},
   "outputs": [],
   "source": [
    "#q4"
   ]
  },
  {
   "cell_type": "code",
   "execution_count": 19,
   "id": "980105df-36ff-4a0f-ad4d-f76d61e540c8",
   "metadata": {},
   "outputs": [
    {
     "data": {
      "text/plain": [
       "'this is my first python program class and i am learning python string and its function'"
      ]
     },
     "execution_count": 19,
     "metadata": {},
     "output_type": "execute_result"
    }
   ],
   "source": [
    "s.lower()"
   ]
  },
  {
   "cell_type": "code",
   "execution_count": 20,
   "id": "3ebe8a32-343f-452c-98a6-9f45b8a2c351",
   "metadata": {},
   "outputs": [],
   "source": [
    "#q5"
   ]
  },
  {
   "cell_type": "code",
   "execution_count": 21,
   "id": "461c69b1-58a8-4e8f-8e3c-116334976317",
   "metadata": {},
   "outputs": [
    {
     "data": {
      "text/plain": [
       "'This is my first python program class and i am learning python string and its function'"
      ]
     },
     "execution_count": 21,
     "metadata": {},
     "output_type": "execute_result"
    }
   ],
   "source": [
    "s.capitalize()"
   ]
  },
  {
   "cell_type": "code",
   "execution_count": 22,
   "id": "e1f98fc6-70f2-484d-bf85-33070f933a04",
   "metadata": {},
   "outputs": [],
   "source": [
    "#q6"
   ]
  },
  {
   "cell_type": "code",
   "execution_count": 25,
   "id": "0b053c3c-f152-42bb-8567-c1b1748b796f",
   "metadata": {},
   "outputs": [],
   "source": [
    "#the isalpha() method returns true if all the characters in the string are alphabets, and isalnum() method returns true if all the characters "
   ]
  },
  {
   "cell_type": "code",
   "execution_count": 26,
   "id": "93e461c6-b50e-4ef9-9bdd-5334fac91617",
   "metadata": {},
   "outputs": [],
   "source": [
    "#for example"
   ]
  },
  {
   "cell_type": "code",
   "execution_count": 27,
   "id": "c9999255-d631-40f2-81e9-81c512422d9b",
   "metadata": {},
   "outputs": [],
   "source": [
    "test=\"jhdjk\""
   ]
  },
  {
   "cell_type": "code",
   "execution_count": 28,
   "id": "ade31e1e-ae75-4f7a-b9d3-b8063a92ce42",
   "metadata": {},
   "outputs": [],
   "source": [
    "test1=\"ugh58k5dk\""
   ]
  },
  {
   "cell_type": "code",
   "execution_count": 29,
   "id": "71d775da-9ed2-4b30-9994-54d58341fc21",
   "metadata": {},
   "outputs": [
    {
     "data": {
      "text/plain": [
       "True"
      ]
     },
     "execution_count": 29,
     "metadata": {},
     "output_type": "execute_result"
    }
   ],
   "source": [
    "test.isalpha()"
   ]
  },
  {
   "cell_type": "code",
   "execution_count": 30,
   "id": "0cb0b167-b3d8-4985-b1cd-de44e6e96fa9",
   "metadata": {},
   "outputs": [
    {
     "data": {
      "text/plain": [
       "True"
      ]
     },
     "execution_count": 30,
     "metadata": {},
     "output_type": "execute_result"
    }
   ],
   "source": [
    "test.isalnum()"
   ]
  },
  {
   "cell_type": "code",
   "execution_count": 31,
   "id": "13b2b565-5c7d-4408-81d1-1b542f5f8b2f",
   "metadata": {},
   "outputs": [
    {
     "data": {
      "text/plain": [
       "False"
      ]
     },
     "execution_count": 31,
     "metadata": {},
     "output_type": "execute_result"
    }
   ],
   "source": [
    "test1.isalpha()"
   ]
  },
  {
   "cell_type": "code",
   "execution_count": 32,
   "id": "cce50ce1-ecb8-419d-92f1-9b6ba4df895a",
   "metadata": {},
   "outputs": [
    {
     "data": {
      "text/plain": [
       "True"
      ]
     },
     "execution_count": 32,
     "metadata": {},
     "output_type": "execute_result"
    }
   ],
   "source": [
    "test1.isalnum()"
   ]
  },
  {
   "cell_type": "code",
   "execution_count": 33,
   "id": "2f7a3941-2d06-4093-bfda-5173ebede258",
   "metadata": {},
   "outputs": [],
   "source": [
    "#q7"
   ]
  },
  {
   "cell_type": "code",
   "execution_count": 34,
   "id": "c2862467-aad2-4e3d-8ec8-631deae24a1b",
   "metadata": {},
   "outputs": [],
   "source": [
    "exp=\"This\\tis\\ta\\texample\""
   ]
  },
  {
   "cell_type": "code",
   "execution_count": 35,
   "id": "b56fe3b2-9846-46ca-b7e7-1d917fb449e2",
   "metadata": {},
   "outputs": [
    {
     "data": {
      "text/plain": [
       "'This    is      a       example'"
      ]
     },
     "execution_count": 35,
     "metadata": {},
     "output_type": "execute_result"
    }
   ],
   "source": [
    "exp.expandtabs()"
   ]
  },
  {
   "cell_type": "code",
   "execution_count": 36,
   "id": "22ae5082-bedb-4ef0-beea-37c13b447bbf",
   "metadata": {},
   "outputs": [
    {
     "data": {
      "text/plain": [
       "'This  is  a example'"
      ]
     },
     "execution_count": 36,
     "metadata": {},
     "output_type": "execute_result"
    }
   ],
   "source": [
    "exp.expandtabs(2)"
   ]
  },
  {
   "cell_type": "code",
   "execution_count": 37,
   "id": "6fa4f7db-61f7-4ded-a586-d3155b111be2",
   "metadata": {},
   "outputs": [
    {
     "data": {
      "text/plain": [
       "'This  is a  example'"
      ]
     },
     "execution_count": 37,
     "metadata": {},
     "output_type": "execute_result"
    }
   ],
   "source": [
    "exp.expandtabs(3)"
   ]
  },
  {
   "cell_type": "code",
   "execution_count": 38,
   "id": "9c0be36d-b98c-4516-b6c9-ca863ffccc0d",
   "metadata": {},
   "outputs": [],
   "source": [
    "#q8"
   ]
  },
  {
   "cell_type": "code",
   "execution_count": 39,
   "id": "fc1ce007-2cb3-4180-b82c-f42e08dd7fe5",
   "metadata": {},
   "outputs": [],
   "source": [
    "#1 example of strips "
   ]
  },
  {
   "cell_type": "code",
   "execution_count": 40,
   "id": "b9a8ee67-be3f-4a5c-97ad-cc1b55f2e1d2",
   "metadata": {},
   "outputs": [],
   "source": [
    "a1= \"@@@22@hey!! shri@2@@@\""
   ]
  },
  {
   "cell_type": "code",
   "execution_count": 41,
   "id": "46043103-643f-4cdf-9936-aa43f5e246ba",
   "metadata": {},
   "outputs": [
    {
     "data": {
      "text/plain": [
       "'hey!! shri'"
      ]
     },
     "execution_count": 41,
     "metadata": {},
     "output_type": "execute_result"
    }
   ],
   "source": [
    "a1.strip(\"@2\") # removes all @2only from the right side "
   ]
  },
  {
   "cell_type": "code",
   "execution_count": 44,
   "id": "33063bc1-3b00-4b4b-8529-330773c93484",
   "metadata": {},
   "outputs": [
    {
     "data": {
      "text/plain": [
       "'hey!! shri@2@@@'"
      ]
     },
     "execution_count": 44,
     "metadata": {},
     "output_type": "execute_result"
    }
   ],
   "source": [
    "#2 example of lstrip\n",
    "a1=\"@@@22@hey!! shri@2@@@\"\n",
    "a1.lstrip(\"@2\") # remove all @2 only from the left side"
   ]
  },
  {
   "cell_type": "code",
   "execution_count": 47,
   "id": "6fb5c416-4162-4e53-9ceb-64f0d3eb903b",
   "metadata": {},
   "outputs": [
    {
     "data": {
      "text/plain": [
       "'@@@222hey!! shri'"
      ]
     },
     "execution_count": 47,
     "metadata": {},
     "output_type": "execute_result"
    }
   ],
   "source": [
    "#3 example of rstrip\n",
    "a2= \"@@@222hey!! shri@2@@@\"\n",
    "a2. rstrip(\"@2\") # removes all @2 only from right side"
   ]
  },
  {
   "cell_type": "code",
   "execution_count": null,
   "id": "cb9946cc-99bd-4bab-9683-7fb3e5de5df3",
   "metadata": {},
   "outputs": [],
   "source": []
  }
 ],
 "metadata": {
  "kernelspec": {
   "display_name": "Python 3 (ipykernel)",
   "language": "python",
   "name": "python3"
  },
  "language_info": {
   "codemirror_mode": {
    "name": "ipython",
    "version": 3
   },
   "file_extension": ".py",
   "mimetype": "text/x-python",
   "name": "python",
   "nbconvert_exporter": "python",
   "pygments_lexer": "ipython3",
   "version": "3.12.4"
  }
 },
 "nbformat": 4,
 "nbformat_minor": 5
}
